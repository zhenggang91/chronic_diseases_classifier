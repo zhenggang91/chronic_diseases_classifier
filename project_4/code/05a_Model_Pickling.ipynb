{
 "cells": [
  {
   "cell_type": "markdown",
   "metadata": {},
   "source": [
    "<img src=\"http://imgur.com/1ZcRyrc.png\" style=\"float: left; margin: 20px; height: 55px\">\n",
    "\n",
    "# Project 4 - Unveiling Chronic Disease in Singaporean Lifestyle\n",
    "\n",
    "> Authors: Chung Yau, Gilbert, Han Kiong, Zheng Gang\n",
    "---\n",
    "\n",
    "**Problem Statement:**  \n",
    "In Singapore, the increasing prevalence of chronic diseases presents a pressing public health concern, underscoring the need for proactive intervention strategies. \n",
    "\n",
    "How can we identify individuals at high risk for chronic diseases based on their behavioral habits? By doing so, we can enable early detection and provide recommendations, fostering a proactive approach to preventing various chronic diseases.\n",
    "\n",
    "  \n",
    "**Target Audience:**  \n",
    "Product team in Synapxe, in preparation for Healthier SG 2025 roadmap workshop. \n",
    "\n",
    "These are the notebooks for this project:  \n",
    " 1. `01_Data_Collection_Food.ipynb`  \n",
    " 2. `02_Data_Preprocessing.ipynb`   \n",
    " 3. `03_FeatureEngineering_and_EDA.ipynb`\n",
    " 4. `04_Data_Modelling.ipynb` \n",
    " 5. `05_Hyperparameter_Model Fitting_Evaluation.ipynb`\n",
    " 6. `05a_Model_Pickling.ipynb`\n",
    " 7. `06_Implementation_FoodRecommender.ipynb` \n",
    "\n",
    " ---\n",
    "\n",
    "# This Notebook: 05a_Model_Pickling\n",
    "\n",
    "This notebook is for isolating the chosen model with the best parameters determined from 05_GridSearch_HyperparameterTuning for pickling purposes to upload to Streamlit\n",
    "\n",
    "---"
   ]
  },
  {
   "cell_type": "markdown",
   "metadata": {},
   "source": [
    "### Import Libraries"
   ]
  },
  {
   "cell_type": "code",
   "execution_count": 1,
   "metadata": {},
   "outputs": [],
   "source": [
    "import pandas as pd\n",
    "import numpy as np\n",
    "\n",
    "from sklearn.pipeline import Pipeline\n",
    "from sklearn.compose import ColumnTransformer\n",
    "from sklearn.preprocessing import StandardScaler, PolynomialFeatures\n",
    "from sklearn.decomposition import PCA\n",
    "from sklearn.model_selection import train_test_split\n",
    "from sklearn.linear_model import LogisticRegression\n",
    "from sklearn.metrics import accuracy_score, precision_score, recall_score, f1_score\n",
    "from imblearn.under_sampling import RandomUnderSampler\n",
    "import pickle\n"
   ]
  },
  {
   "cell_type": "markdown",
   "metadata": {},
   "source": [
    "### Read the CSV "
   ]
  },
  {
   "cell_type": "code",
   "execution_count": 2,
   "metadata": {},
   "outputs": [],
   "source": [
    "# read cleaned csv file into a data frame\n",
    "df = pd.read_csv('../data/03_asian_data.csv')"
   ]
  },
  {
   "cell_type": "code",
   "execution_count": 3,
   "metadata": {},
   "outputs": [
    {
     "data": {
      "text/html": [
       "<div>\n",
       "<style scoped>\n",
       "    .dataframe tbody tr th:only-of-type {\n",
       "        vertical-align: middle;\n",
       "    }\n",
       "\n",
       "    .dataframe tbody tr th {\n",
       "        vertical-align: top;\n",
       "    }\n",
       "\n",
       "    .dataframe thead th {\n",
       "        text-align: right;\n",
       "    }\n",
       "</style>\n",
       "<table border=\"1\" class=\"dataframe\">\n",
       "  <thead>\n",
       "    <tr style=\"text-align: right;\">\n",
       "      <th></th>\n",
       "      <th>heart_attack</th>\n",
       "      <th>stroke</th>\n",
       "      <th>asthma</th>\n",
       "      <th>skin_cancer</th>\n",
       "      <th>other_cancer</th>\n",
       "      <th>cpd_bronchitis</th>\n",
       "      <th>depression</th>\n",
       "      <th>kidney_disease</th>\n",
       "      <th>diabetes</th>\n",
       "      <th>sex</th>\n",
       "      <th>...</th>\n",
       "      <th>one_alc_per_day</th>\n",
       "      <th>binge_drink</th>\n",
       "      <th>ave_drink_week</th>\n",
       "      <th>fruit</th>\n",
       "      <th>vegetable</th>\n",
       "      <th>exercise_cat</th>\n",
       "      <th>high_cholesterol</th>\n",
       "      <th>weight</th>\n",
       "      <th>BMI</th>\n",
       "      <th>CD</th>\n",
       "    </tr>\n",
       "  </thead>\n",
       "  <tbody>\n",
       "    <tr>\n",
       "      <th>0</th>\n",
       "      <td>0</td>\n",
       "      <td>0</td>\n",
       "      <td>0</td>\n",
       "      <td>0</td>\n",
       "      <td>0</td>\n",
       "      <td>0</td>\n",
       "      <td>0</td>\n",
       "      <td>0</td>\n",
       "      <td>0</td>\n",
       "      <td>1</td>\n",
       "      <td>...</td>\n",
       "      <td>1</td>\n",
       "      <td>0</td>\n",
       "      <td>2.330000e+02</td>\n",
       "      <td>0</td>\n",
       "      <td>0</td>\n",
       "      <td>2</td>\n",
       "      <td>1</td>\n",
       "      <td>6804.000000</td>\n",
       "      <td>22.733803</td>\n",
       "      <td>0</td>\n",
       "    </tr>\n",
       "    <tr>\n",
       "      <th>1</th>\n",
       "      <td>0</td>\n",
       "      <td>0</td>\n",
       "      <td>0</td>\n",
       "      <td>0</td>\n",
       "      <td>0</td>\n",
       "      <td>0</td>\n",
       "      <td>0</td>\n",
       "      <td>0</td>\n",
       "      <td>0</td>\n",
       "      <td>1</td>\n",
       "      <td>...</td>\n",
       "      <td>0</td>\n",
       "      <td>0</td>\n",
       "      <td>5.397605e-79</td>\n",
       "      <td>0</td>\n",
       "      <td>0</td>\n",
       "      <td>0</td>\n",
       "      <td>0</td>\n",
       "      <td>5897.000000</td>\n",
       "      <td>23.923891</td>\n",
       "      <td>0</td>\n",
       "    </tr>\n",
       "    <tr>\n",
       "      <th>2</th>\n",
       "      <td>0</td>\n",
       "      <td>0</td>\n",
       "      <td>0</td>\n",
       "      <td>0</td>\n",
       "      <td>0</td>\n",
       "      <td>0</td>\n",
       "      <td>0</td>\n",
       "      <td>0</td>\n",
       "      <td>0</td>\n",
       "      <td>1</td>\n",
       "      <td>...</td>\n",
       "      <td>0</td>\n",
       "      <td>0</td>\n",
       "      <td>5.397605e-79</td>\n",
       "      <td>0</td>\n",
       "      <td>1</td>\n",
       "      <td>1</td>\n",
       "      <td>1</td>\n",
       "      <td>6350.000000</td>\n",
       "      <td>21.216880</td>\n",
       "      <td>0</td>\n",
       "    </tr>\n",
       "    <tr>\n",
       "      <th>3</th>\n",
       "      <td>0</td>\n",
       "      <td>0</td>\n",
       "      <td>0</td>\n",
       "      <td>0</td>\n",
       "      <td>0</td>\n",
       "      <td>1</td>\n",
       "      <td>1</td>\n",
       "      <td>0</td>\n",
       "      <td>0</td>\n",
       "      <td>0</td>\n",
       "      <td>...</td>\n",
       "      <td>0</td>\n",
       "      <td>0</td>\n",
       "      <td>5.397605e-79</td>\n",
       "      <td>0</td>\n",
       "      <td>0</td>\n",
       "      <td>1</td>\n",
       "      <td>1</td>\n",
       "      <td>8048.087779</td>\n",
       "      <td>28.055853</td>\n",
       "      <td>1</td>\n",
       "    </tr>\n",
       "    <tr>\n",
       "      <th>4</th>\n",
       "      <td>0</td>\n",
       "      <td>0</td>\n",
       "      <td>0</td>\n",
       "      <td>0</td>\n",
       "      <td>0</td>\n",
       "      <td>0</td>\n",
       "      <td>0</td>\n",
       "      <td>0</td>\n",
       "      <td>0</td>\n",
       "      <td>1</td>\n",
       "      <td>...</td>\n",
       "      <td>1</td>\n",
       "      <td>0</td>\n",
       "      <td>1.170000e+02</td>\n",
       "      <td>1</td>\n",
       "      <td>1</td>\n",
       "      <td>2</td>\n",
       "      <td>0</td>\n",
       "      <td>7484.000000</td>\n",
       "      <td>23.098765</td>\n",
       "      <td>0</td>\n",
       "    </tr>\n",
       "  </tbody>\n",
       "</table>\n",
       "<p>5 rows × 33 columns</p>\n",
       "</div>"
      ],
      "text/plain": [
       "   heart_attack  stroke  asthma  skin_cancer  other_cancer  cpd_bronchitis  \\\n",
       "0             0       0       0            0             0               0   \n",
       "1             0       0       0            0             0               0   \n",
       "2             0       0       0            0             0               0   \n",
       "3             0       0       0            0             0               1   \n",
       "4             0       0       0            0             0               0   \n",
       "\n",
       "   depression  kidney_disease  diabetes  sex  ...  one_alc_per_day  \\\n",
       "0           0               0         0    1  ...                1   \n",
       "1           0               0         0    1  ...                0   \n",
       "2           0               0         0    1  ...                0   \n",
       "3           1               0         0    0  ...                0   \n",
       "4           0               0         0    1  ...                1   \n",
       "\n",
       "   binge_drink  ave_drink_week  fruit  vegetable  exercise_cat  \\\n",
       "0            0    2.330000e+02      0          0             2   \n",
       "1            0    5.397605e-79      0          0             0   \n",
       "2            0    5.397605e-79      0          1             1   \n",
       "3            0    5.397605e-79      0          0             1   \n",
       "4            0    1.170000e+02      1          1             2   \n",
       "\n",
       "   high_cholesterol       weight        BMI  CD  \n",
       "0                 1  6804.000000  22.733803   0  \n",
       "1                 0  5897.000000  23.923891   0  \n",
       "2                 1  6350.000000  21.216880   0  \n",
       "3                 1  8048.087779  28.055853   1  \n",
       "4                 0  7484.000000  23.098765   0  \n",
       "\n",
       "[5 rows x 33 columns]"
      ]
     },
     "execution_count": 3,
     "metadata": {},
     "output_type": "execute_result"
    }
   ],
   "source": [
    "df.head()"
   ]
  },
  {
   "cell_type": "code",
   "execution_count": 4,
   "metadata": {},
   "outputs": [
    {
     "data": {
      "text/plain": [
       "(16104, 33)"
      ]
     },
     "execution_count": 4,
     "metadata": {},
     "output_type": "execute_result"
    }
   ],
   "source": [
    "df.shape"
   ]
  },
  {
   "cell_type": "markdown",
   "metadata": {},
   "source": [
    "### Preprocessing"
   ]
  },
  {
   "cell_type": "markdown",
   "metadata": {},
   "source": [
    "Similar to what was done in the data_modelling notebook and the GridSearch_HyperparameterTuning notebook, the preprocessing involves: \n",
    "1. Dropping the '_RACE' column since filtering of asian has been performed during EDA\n",
    "2. Checking the class balance of 1 and 0 in 'CD' column"
   ]
  },
  {
   "cell_type": "code",
   "execution_count": 5,
   "metadata": {},
   "outputs": [],
   "source": [
    "# drop '_RACE' column\n",
    "df.drop(columns=['race'], inplace=True)"
   ]
  },
  {
   "cell_type": "code",
   "execution_count": 6,
   "metadata": {},
   "outputs": [
    {
     "name": "stdout",
     "output_type": "stream",
     "text": [
      "CD\n",
      "0    10631\n",
      "1     5473\n",
      "Name: count, dtype: int64\n",
      "CD\n",
      "0    66.014655\n",
      "1    33.985345\n",
      "Name: proportion, dtype: float64\n"
     ]
    }
   ],
   "source": [
    "# Checking percentage of occurrences of each unique value in the 'CD' column\n",
    "print(df['CD'].value_counts())\n",
    "print(df['CD'].value_counts(normalize = True)*100)"
   ]
  },
  {
   "cell_type": "markdown",
   "metadata": {},
   "source": [
    "### Transformation of data \n"
   ]
  },
  {
   "cell_type": "markdown",
   "metadata": {},
   "source": [
    "Similar to what was done in the data_modelling notebook and the GridSearch_HyperparameterTuning notebook, the transformation of data involves: \n",
    "1. Define X and y\n",
    "2. Create a train-test split of X and y "
   ]
  },
  {
   "cell_type": "code",
   "execution_count": 7,
   "metadata": {},
   "outputs": [],
   "source": [
    "# Train-test split\n",
    "columns_to_check = [\n",
    "    'cpd_bronchitis',  \n",
    "    'depression',      \n",
    "    'arthritis',       \n",
    "    'heart_attack',    \n",
    "    'stroke',          \n",
    "    'asthma',          \n",
    "    'diabetes',        \n",
    "    'kidney_disease',  \n",
    "    'heart_disease',   \n",
    "    'CD',              \n",
    "    'height',         \n",
    "    'weight'          \n",
    "]\n",
    "\n",
    "X = df.drop(columns=columns_to_check)\n",
    "y = df['CD']\n",
    "\n",
    "# Split the data into train and test sets\n",
    "X_train, X_test, y_train, y_test = train_test_split(X, y, test_size=0.2, random_state=42, stratify=y)"
   ]
  },
  {
   "cell_type": "code",
   "execution_count": 8,
   "metadata": {},
   "outputs": [
    {
     "data": {
      "text/plain": [
       "Index(['skin_cancer', 'other_cancer', 'sex', 'martial', 'employment_status',\n",
       "       'blind', 'diff_walking', 'occasion_drink_30days', 'high_bp', 'age',\n",
       "       'education', 'smoker_status', 'one_alc_per_day', 'binge_drink',\n",
       "       'ave_drink_week', 'fruit', 'vegetable', 'exercise_cat',\n",
       "       'high_cholesterol', 'BMI'],\n",
       "      dtype='object')"
      ]
     },
     "execution_count": 8,
     "metadata": {},
     "output_type": "execute_result"
    }
   ],
   "source": [
    "# check columns in X\n",
    "X.columns"
   ]
  },
  {
   "cell_type": "markdown",
   "metadata": {},
   "source": [
    "### Modelling\n"
   ]
  },
  {
   "cell_type": "markdown",
   "metadata": {},
   "source": [
    "Similar to what was done in the data_modelling notebook and the GridSearch_HyperparameterTuning notebook, the modelling involves: \n",
    "1. Perform RandomUnderSampler for class imbalance \n",
    "2. Apply PolynomialFeatures to selected columns \n",
    "3. Create a pipeline for PolynomialFeatures, StandardScaler and the classifiers\n",
    "4. Call and fit the respective classification models\n",
    "5. Generate scoring metrics (accuracy, precision, recall, F1 score) to see how well the model is performing based on the best parameters"
   ]
  },
  {
   "cell_type": "code",
   "execution_count": 9,
   "metadata": {},
   "outputs": [],
   "source": [
    "# Perform RandomUnderSampler for class imbalance\n",
    "rus = RandomUnderSampler(random_state=42)\n",
    "X_train_resampled, y_train_resampled = rus.fit_resample(X_train, y_train)\n",
    "\n",
    "# Define columns you want to apply polynomial features to\n",
    "poly_cols = [\n",
    "    'occasion_drink_30days', \n",
    "    'BMI',                    \n",
    "    'education',              \n",
    "    'smoker_status',          \n",
    "    'exercise_cat',          \n",
    "    'ave_drink_week',         \n",
    "    'age'                    \n",
    "]\n",
    "# Define PCA with n_components=30\n",
    "pca = PCA(n_components=30)\n",
    "\n",
    "# Create a ColumnTransformer to apply PolynomialFeatures to selected columns\n",
    "poly_transformer = ColumnTransformer(\n",
    "    transformers=[\n",
    "        ('poly', PolynomialFeatures(), poly_cols)\n",
    "    ],\n",
    "    remainder='passthrough'  # Pass through columns not specified for polynomial features\n",
    ")\n",
    "\n",
    "# Define the pipeline with best parameters\n",
    "pipeline = Pipeline([\n",
    "    ('poly_transformer', poly_transformer),\n",
    "    ('std_scaler', StandardScaler()),\n",
    "    ('pca', pca),  # Apply PCA with n_components=30\n",
    "    ('lr', LogisticRegression(C=0.021544346900318832, class_weight='balanced',\n",
    "                               max_iter=100, penalty='l1', solver='liblinear', random_state=42))\n",
    "])\n",
    "\n",
    "# Fit the pipeline to the training data\n",
    "pipeline.fit(X_train_resampled, y_train_resampled)\n",
    "\n",
    "# Predict on the train data\n",
    "train_y_pred = pipeline.predict(X_train_resampled)\n",
    "\n",
    "# Calculate evaluation metrics for train data\n",
    "train_accuracy = accuracy_score(y_train_resampled, train_y_pred)\n",
    "train_precision = precision_score(y_train_resampled, train_y_pred)\n",
    "train_recall = recall_score(y_train_resampled, train_y_pred)\n",
    "train_f1 = f1_score(y_train_resampled, train_y_pred)\n",
    "\n",
    "# Predict on the test data\n",
    "y_pred = pipeline.predict(X_test)\n",
    "\n",
    "# Calculate evaluation metrics for test data\n",
    "test_accuracy = accuracy_score(y_test, y_pred)\n",
    "test_precision = precision_score(y_test, y_pred)\n",
    "test_recall = recall_score(y_test, y_pred)\n",
    "test_f1 = f1_score(y_test, y_pred)\n",
    "\n",
    "# Create DataFrames to store the evaluation metrics\n",
    "train_results_df = pd.DataFrame({\n",
    "    'classifier': ['LogisticRegression'],\n",
    "    'train accuracy': [train_accuracy],\n",
    "    'train precision': [train_precision],\n",
    "    'train recall': [train_recall],\n",
    "    'train f1 score': [train_f1]\n",
    "})\n",
    "\n",
    "test_results_df = pd.DataFrame({\n",
    "    'classifier': ['LogisticRegression'],\n",
    "    'test accuracy': [test_accuracy],\n",
    "    'test precision': [test_precision],\n",
    "    'test recall': [test_recall],\n",
    "    'test f1 score': [test_f1]\n",
    "})"
   ]
  },
  {
   "cell_type": "code",
   "execution_count": 10,
   "metadata": {},
   "outputs": [
    {
     "data": {
      "text/html": [
       "<div>\n",
       "<style scoped>\n",
       "    .dataframe tbody tr th:only-of-type {\n",
       "        vertical-align: middle;\n",
       "    }\n",
       "\n",
       "    .dataframe tbody tr th {\n",
       "        vertical-align: top;\n",
       "    }\n",
       "\n",
       "    .dataframe thead th {\n",
       "        text-align: right;\n",
       "    }\n",
       "</style>\n",
       "<table border=\"1\" class=\"dataframe\">\n",
       "  <thead>\n",
       "    <tr style=\"text-align: right;\">\n",
       "      <th></th>\n",
       "      <th>classifier</th>\n",
       "      <th>train accuracy</th>\n",
       "      <th>train precision</th>\n",
       "      <th>train recall</th>\n",
       "      <th>train f1 score</th>\n",
       "    </tr>\n",
       "  </thead>\n",
       "  <tbody>\n",
       "    <tr>\n",
       "      <th>0</th>\n",
       "      <td>LogisticRegression</td>\n",
       "      <td>0.694724</td>\n",
       "      <td>0.725948</td>\n",
       "      <td>0.625628</td>\n",
       "      <td>0.672065</td>\n",
       "    </tr>\n",
       "  </tbody>\n",
       "</table>\n",
       "</div>"
      ],
      "text/plain": [
       "           classifier  train accuracy  train precision  train recall  \\\n",
       "0  LogisticRegression        0.694724         0.725948      0.625628   \n",
       "\n",
       "   train f1 score  \n",
       "0        0.672065  "
      ]
     },
     "execution_count": 10,
     "metadata": {},
     "output_type": "execute_result"
    }
   ],
   "source": [
    "train_results_df"
   ]
  },
  {
   "cell_type": "code",
   "execution_count": 11,
   "metadata": {},
   "outputs": [
    {
     "data": {
      "text/html": [
       "<div>\n",
       "<style scoped>\n",
       "    .dataframe tbody tr th:only-of-type {\n",
       "        vertical-align: middle;\n",
       "    }\n",
       "\n",
       "    .dataframe tbody tr th {\n",
       "        vertical-align: top;\n",
       "    }\n",
       "\n",
       "    .dataframe thead th {\n",
       "        text-align: right;\n",
       "    }\n",
       "</style>\n",
       "<table border=\"1\" class=\"dataframe\">\n",
       "  <thead>\n",
       "    <tr style=\"text-align: right;\">\n",
       "      <th></th>\n",
       "      <th>classifier</th>\n",
       "      <th>test accuracy</th>\n",
       "      <th>test precision</th>\n",
       "      <th>test recall</th>\n",
       "      <th>test f1 score</th>\n",
       "    </tr>\n",
       "  </thead>\n",
       "  <tbody>\n",
       "    <tr>\n",
       "      <th>0</th>\n",
       "      <td>LogisticRegression</td>\n",
       "      <td>0.719652</td>\n",
       "      <td>0.579734</td>\n",
       "      <td>0.637443</td>\n",
       "      <td>0.607221</td>\n",
       "    </tr>\n",
       "  </tbody>\n",
       "</table>\n",
       "</div>"
      ],
      "text/plain": [
       "           classifier  test accuracy  test precision  test recall  \\\n",
       "0  LogisticRegression       0.719652        0.579734     0.637443   \n",
       "\n",
       "   test f1 score  \n",
       "0       0.607221  "
      ]
     },
     "execution_count": 11,
     "metadata": {},
     "output_type": "execute_result"
    }
   ],
   "source": [
    "test_results_df"
   ]
  },
  {
   "cell_type": "markdown",
   "metadata": {},
   "source": [
    "### Pickling of Desired Model"
   ]
  },
  {
   "cell_type": "code",
   "execution_count": 12,
   "metadata": {},
   "outputs": [
    {
     "name": "stdout",
     "output_type": "stream",
     "text": [
      "Model is pickled and saved as 'trained_model.pkl'\n"
     ]
    }
   ],
   "source": [
    "# Save the trained model to a file\n",
    "with open('trained_model.pkl', 'wb') as f:\n",
    "    pickle.dump(pipeline, f)\n",
    "\n",
    "print(\"Model is pickled and saved as 'trained_model.pkl'\")"
   ]
  }
 ],
 "metadata": {
  "kernelspec": {
   "display_name": "base",
   "language": "python",
   "name": "python3"
  },
  "language_info": {
   "codemirror_mode": {
    "name": "ipython",
    "version": 3
   },
   "file_extension": ".py",
   "mimetype": "text/x-python",
   "name": "python",
   "nbconvert_exporter": "python",
   "pygments_lexer": "ipython3",
   "version": "3.11.5"
  }
 },
 "nbformat": 4,
 "nbformat_minor": 2
}
